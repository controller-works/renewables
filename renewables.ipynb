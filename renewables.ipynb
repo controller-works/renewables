{
 "cells": [
  {
   "cell_type": "code",
   "execution_count": 140,
   "id": "837f6528-abb3-415c-af90-99b4e7773c12",
   "metadata": {},
   "outputs": [
    {
     "data": {
      "text/html": [
       "<div>\n",
       "<style scoped>\n",
       "    .dataframe tbody tr th:only-of-type {\n",
       "        vertical-align: middle;\n",
       "    }\n",
       "\n",
       "    .dataframe tbody tr th {\n",
       "        vertical-align: top;\n",
       "    }\n",
       "\n",
       "    .dataframe thead th {\n",
       "        text-align: right;\n",
       "    }\n",
       "</style>\n",
       "<table border=\"1\" class=\"dataframe\">\n",
       "  <thead>\n",
       "    <tr style=\"text-align: right;\">\n",
       "      <th></th>\n",
       "      <th>MSN</th>\n",
       "      <th>YYYYMM</th>\n",
       "      <th>Value</th>\n",
       "      <th>Column_Order</th>\n",
       "      <th>Description</th>\n",
       "      <th>Unit</th>\n",
       "    </tr>\n",
       "  </thead>\n",
       "  <tbody>\n",
       "    <tr>\n",
       "      <th>0</th>\n",
       "      <td>WDPRBUS</td>\n",
       "      <td>194913</td>\n",
       "      <td>1549.262</td>\n",
       "      <td>1</td>\n",
       "      <td>Wood Energy Production</td>\n",
       "      <td>Trillion Btu</td>\n",
       "    </tr>\n",
       "    <tr>\n",
       "      <th>1</th>\n",
       "      <td>WDPRBUS</td>\n",
       "      <td>195013</td>\n",
       "      <td>1562.307</td>\n",
       "      <td>1</td>\n",
       "      <td>Wood Energy Production</td>\n",
       "      <td>Trillion Btu</td>\n",
       "    </tr>\n",
       "    <tr>\n",
       "      <th>2</th>\n",
       "      <td>WDPRBUS</td>\n",
       "      <td>195113</td>\n",
       "      <td>1534.669</td>\n",
       "      <td>1</td>\n",
       "      <td>Wood Energy Production</td>\n",
       "      <td>Trillion Btu</td>\n",
       "    </tr>\n",
       "    <tr>\n",
       "      <th>3</th>\n",
       "      <td>WDPRBUS</td>\n",
       "      <td>195213</td>\n",
       "      <td>1474.369</td>\n",
       "      <td>1</td>\n",
       "      <td>Wood Energy Production</td>\n",
       "      <td>Trillion Btu</td>\n",
       "    </tr>\n",
       "    <tr>\n",
       "      <th>4</th>\n",
       "      <td>WDPRBUS</td>\n",
       "      <td>195313</td>\n",
       "      <td>1418.601</td>\n",
       "      <td>1</td>\n",
       "      <td>Wood Energy Production</td>\n",
       "      <td>Trillion Btu</td>\n",
       "    </tr>\n",
       "    <tr>\n",
       "      <th>...</th>\n",
       "      <td>...</td>\n",
       "      <td>...</td>\n",
       "      <td>...</td>\n",
       "      <td>...</td>\n",
       "      <td>...</td>\n",
       "      <td>...</td>\n",
       "    </tr>\n",
       "    <tr>\n",
       "      <th>4495</th>\n",
       "      <td>SOTCBUS</td>\n",
       "      <td>200803</td>\n",
       "      <td>6.07</td>\n",
       "      <td>7</td>\n",
       "      <td>Solar Energy Consumption</td>\n",
       "      <td>Trillion Btu</td>\n",
       "    </tr>\n",
       "    <tr>\n",
       "      <th>4496</th>\n",
       "      <td>SOTCBUS</td>\n",
       "      <td>200804</td>\n",
       "      <td>6.807</td>\n",
       "      <td>7</td>\n",
       "      <td>Solar Energy Consumption</td>\n",
       "      <td>Trillion Btu</td>\n",
       "    </tr>\n",
       "    <tr>\n",
       "      <th>4497</th>\n",
       "      <td>SOTCBUS</td>\n",
       "      <td>200805</td>\n",
       "      <td>7.464</td>\n",
       "      <td>7</td>\n",
       "      <td>Solar Energy Consumption</td>\n",
       "      <td>Trillion Btu</td>\n",
       "    </tr>\n",
       "    <tr>\n",
       "      <th>4498</th>\n",
       "      <td>SOTCBUS</td>\n",
       "      <td>200806</td>\n",
       "      <td>7.812</td>\n",
       "      <td>7</td>\n",
       "      <td>Solar Energy Consumption</td>\n",
       "      <td>Trillion Btu</td>\n",
       "    </tr>\n",
       "    <tr>\n",
       "      <th>4499</th>\n",
       "      <td>SOTCBUS</td>\n",
       "      <td>200807</td>\n",
       "      <td>7.968</td>\n",
       "      <td>7</td>\n",
       "      <td>Solar Energy Consumption</td>\n",
       "      <td>Trillion Btu</td>\n",
       "    </tr>\n",
       "  </tbody>\n",
       "</table>\n",
       "<p>4500 rows × 6 columns</p>\n",
       "</div>"
      ],
      "text/plain": [
       "          MSN  YYYYMM     Value  Column_Order               Description  \\\n",
       "0     WDPRBUS  194913  1549.262             1    Wood Energy Production   \n",
       "1     WDPRBUS  195013  1562.307             1    Wood Energy Production   \n",
       "2     WDPRBUS  195113  1534.669             1    Wood Energy Production   \n",
       "3     WDPRBUS  195213  1474.369             1    Wood Energy Production   \n",
       "4     WDPRBUS  195313  1418.601             1    Wood Energy Production   \n",
       "...       ...     ...       ...           ...                       ...   \n",
       "4495  SOTCBUS  200803      6.07             7  Solar Energy Consumption   \n",
       "4496  SOTCBUS  200804     6.807             7  Solar Energy Consumption   \n",
       "4497  SOTCBUS  200805     7.464             7  Solar Energy Consumption   \n",
       "4498  SOTCBUS  200806     7.812             7  Solar Energy Consumption   \n",
       "4499  SOTCBUS  200807     7.968             7  Solar Energy Consumption   \n",
       "\n",
       "              Unit  \n",
       "0     Trillion Btu  \n",
       "1     Trillion Btu  \n",
       "2     Trillion Btu  \n",
       "3     Trillion Btu  \n",
       "4     Trillion Btu  \n",
       "...            ...  \n",
       "4495  Trillion Btu  \n",
       "4496  Trillion Btu  \n",
       "4497  Trillion Btu  \n",
       "4498  Trillion Btu  \n",
       "4499  Trillion Btu  \n",
       "\n",
       "[4500 rows x 6 columns]"
      ]
     },
     "execution_count": 140,
     "metadata": {},
     "output_type": "execute_result"
    }
   ],
   "source": [
    "import pandas as pd\n",
    "import matplotlib.pyplot as plt\n",
    "df = pd.read_csv(\"MER_T10_01.csv\", parse_dates=['YYYYMM'])\n",
    "df.head(4500)"
   ]
  },
  {
   "cell_type": "code",
   "execution_count": 141,
   "id": "73de8397-8f71-4498-a0d6-22d6b2a32195",
   "metadata": {},
   "outputs": [
    {
     "data": {
      "text/plain": [
       "array(['WDPRBUS', 'BFPRBUS', 'BMPRBUS', 'REPRBUS', 'HVTCBUS', 'GETCBUS',\n",
       "       'SOTCBUS', 'WYTCBUS', 'WDTCBUS', 'WSTCBUS', 'BFTCBUS', 'BMTCBUS',\n",
       "       'RETCBUS'], dtype=object)"
      ]
     },
     "execution_count": 141,
     "metadata": {},
     "output_type": "execute_result"
    }
   ],
   "source": [
    "pd.unique(df.MSN)"
   ]
  },
  {
   "cell_type": "code",
   "execution_count": 142,
   "id": "45ef7cec-ecb0-47d7-84aa-732280d48ce2",
   "metadata": {},
   "outputs": [],
   "source": [
    "df.drop([\"Column_Order\", \"Description\", \"Unit\"], axis = 1, inplace = True)"
   ]
  },
  {
   "cell_type": "code",
   "execution_count": 143,
   "id": "3a976138-6b0e-489a-bfe8-2d41da016ccd",
   "metadata": {},
   "outputs": [
    {
     "data": {
      "text/html": [
       "<div>\n",
       "<style scoped>\n",
       "    .dataframe tbody tr th:only-of-type {\n",
       "        vertical-align: middle;\n",
       "    }\n",
       "\n",
       "    .dataframe tbody tr th {\n",
       "        vertical-align: top;\n",
       "    }\n",
       "\n",
       "    .dataframe thead th {\n",
       "        text-align: right;\n",
       "    }\n",
       "</style>\n",
       "<table border=\"1\" class=\"dataframe\">\n",
       "  <thead>\n",
       "    <tr style=\"text-align: right;\">\n",
       "      <th></th>\n",
       "      <th>MSN</th>\n",
       "      <th>YYYYMM</th>\n",
       "      <th>Value</th>\n",
       "    </tr>\n",
       "  </thead>\n",
       "  <tbody>\n",
       "    <tr>\n",
       "      <th>0</th>\n",
       "      <td>WDPRBUS</td>\n",
       "      <td>194913</td>\n",
       "      <td>1549.262</td>\n",
       "    </tr>\n",
       "    <tr>\n",
       "      <th>1</th>\n",
       "      <td>WDPRBUS</td>\n",
       "      <td>195013</td>\n",
       "      <td>1562.307</td>\n",
       "    </tr>\n",
       "    <tr>\n",
       "      <th>2</th>\n",
       "      <td>WDPRBUS</td>\n",
       "      <td>195113</td>\n",
       "      <td>1534.669</td>\n",
       "    </tr>\n",
       "    <tr>\n",
       "      <th>3</th>\n",
       "      <td>WDPRBUS</td>\n",
       "      <td>195213</td>\n",
       "      <td>1474.369</td>\n",
       "    </tr>\n",
       "    <tr>\n",
       "      <th>4</th>\n",
       "      <td>WDPRBUS</td>\n",
       "      <td>195313</td>\n",
       "      <td>1418.601</td>\n",
       "    </tr>\n",
       "  </tbody>\n",
       "</table>\n",
       "</div>"
      ],
      "text/plain": [
       "       MSN  YYYYMM     Value\n",
       "0  WDPRBUS  194913  1549.262\n",
       "1  WDPRBUS  195013  1562.307\n",
       "2  WDPRBUS  195113  1534.669\n",
       "3  WDPRBUS  195213  1474.369\n",
       "4  WDPRBUS  195313  1418.601"
      ]
     },
     "execution_count": 143,
     "metadata": {},
     "output_type": "execute_result"
    }
   ],
   "source": [
    "df.head(5)"
   ]
  },
  {
   "cell_type": "code",
   "execution_count": 146,
   "id": "e196a246-a5d4-425f-ae68-dbaa05430d7f",
   "metadata": {},
   "outputs": [],
   "source": [
    "df = df[(df['MSN']=='SOTCBUS')]"
   ]
  },
  {
   "cell_type": "code",
   "execution_count": 148,
   "id": "d873d98a-cf59-4ee6-af53-ce23924cda98",
   "metadata": {},
   "outputs": [
    {
     "data": {
      "text/html": [
       "<div>\n",
       "<style scoped>\n",
       "    .dataframe tbody tr th:only-of-type {\n",
       "        vertical-align: middle;\n",
       "    }\n",
       "\n",
       "    .dataframe tbody tr th {\n",
       "        vertical-align: top;\n",
       "    }\n",
       "\n",
       "    .dataframe thead th {\n",
       "        text-align: right;\n",
       "    }\n",
       "</style>\n",
       "<table border=\"1\" class=\"dataframe\">\n",
       "  <thead>\n",
       "    <tr style=\"text-align: right;\">\n",
       "      <th></th>\n",
       "      <th>MSN</th>\n",
       "      <th>YYYYMM</th>\n",
       "      <th>Value</th>\n",
       "    </tr>\n",
       "  </thead>\n",
       "  <tbody>\n",
       "    <tr>\n",
       "      <th>4014</th>\n",
       "      <td>SOTCBUS</td>\n",
       "      <td>194913</td>\n",
       "      <td>Not Available</td>\n",
       "    </tr>\n",
       "    <tr>\n",
       "      <th>4015</th>\n",
       "      <td>SOTCBUS</td>\n",
       "      <td>195013</td>\n",
       "      <td>Not Available</td>\n",
       "    </tr>\n",
       "    <tr>\n",
       "      <th>4016</th>\n",
       "      <td>SOTCBUS</td>\n",
       "      <td>195113</td>\n",
       "      <td>Not Available</td>\n",
       "    </tr>\n",
       "    <tr>\n",
       "      <th>4017</th>\n",
       "      <td>SOTCBUS</td>\n",
       "      <td>195213</td>\n",
       "      <td>Not Available</td>\n",
       "    </tr>\n",
       "    <tr>\n",
       "      <th>4018</th>\n",
       "      <td>SOTCBUS</td>\n",
       "      <td>195313</td>\n",
       "      <td>Not Available</td>\n",
       "    </tr>\n",
       "    <tr>\n",
       "      <th>...</th>\n",
       "      <td>...</td>\n",
       "      <td>...</td>\n",
       "      <td>...</td>\n",
       "    </tr>\n",
       "    <tr>\n",
       "      <th>4509</th>\n",
       "      <td>SOTCBUS</td>\n",
       "      <td>200904</td>\n",
       "      <td>7.204</td>\n",
       "    </tr>\n",
       "    <tr>\n",
       "      <th>4510</th>\n",
       "      <td>SOTCBUS</td>\n",
       "      <td>200905</td>\n",
       "      <td>7.959</td>\n",
       "    </tr>\n",
       "    <tr>\n",
       "      <th>4511</th>\n",
       "      <td>SOTCBUS</td>\n",
       "      <td>200906</td>\n",
       "      <td>7.953</td>\n",
       "    </tr>\n",
       "    <tr>\n",
       "      <th>4512</th>\n",
       "      <td>SOTCBUS</td>\n",
       "      <td>200907</td>\n",
       "      <td>8.472</td>\n",
       "    </tr>\n",
       "    <tr>\n",
       "      <th>4513</th>\n",
       "      <td>SOTCBUS</td>\n",
       "      <td>200908</td>\n",
       "      <td>8.349</td>\n",
       "    </tr>\n",
       "  </tbody>\n",
       "</table>\n",
       "<p>500 rows × 3 columns</p>\n",
       "</div>"
      ],
      "text/plain": [
       "          MSN  YYYYMM          Value\n",
       "4014  SOTCBUS  194913  Not Available\n",
       "4015  SOTCBUS  195013  Not Available\n",
       "4016  SOTCBUS  195113  Not Available\n",
       "4017  SOTCBUS  195213  Not Available\n",
       "4018  SOTCBUS  195313  Not Available\n",
       "...       ...     ...            ...\n",
       "4509  SOTCBUS  200904          7.204\n",
       "4510  SOTCBUS  200905          7.959\n",
       "4511  SOTCBUS  200906          7.953\n",
       "4512  SOTCBUS  200907          8.472\n",
       "4513  SOTCBUS  200908          8.349\n",
       "\n",
       "[500 rows x 3 columns]"
      ]
     },
     "execution_count": 148,
     "metadata": {},
     "output_type": "execute_result"
    }
   ],
   "source": [
    "df.head(500)"
   ]
  },
  {
   "cell_type": "code",
   "execution_count": 180,
   "id": "444be0fd-961a-4f6b-8ff3-e32ce02e8fda",
   "metadata": {},
   "outputs": [
    {
     "data": {
      "text/plain": [
       "4181     -0.001\n",
       "4182      0.001\n",
       "4183      0.002\n",
       "4184      0.003\n",
       "4185      0.007\n",
       "         ...   \n",
       "4678    172.819\n",
       "4679    193.046\n",
       "4680    199.707\n",
       "4681    199.439\n",
       "4682    184.958\n",
       "Name: Value, Length: 502, dtype: float64"
      ]
     },
     "execution_count": 180,
     "metadata": {},
     "output_type": "execute_result"
    }
   ],
   "source": [
    "df = df[df.Value != 'Not Available']\n",
    "pd.to_numeric(df.Value)"
   ]
  },
  {
   "cell_type": "code",
   "execution_count": 182,
   "id": "bff12bbf-3e97-4f8f-82ac-b576a8320296",
   "metadata": {},
   "outputs": [
    {
     "data": {
      "text/html": [
       "<div>\n",
       "<style scoped>\n",
       "    .dataframe tbody tr th:only-of-type {\n",
       "        vertical-align: middle;\n",
       "    }\n",
       "\n",
       "    .dataframe tbody tr th {\n",
       "        vertical-align: top;\n",
       "    }\n",
       "\n",
       "    .dataframe thead th {\n",
       "        text-align: right;\n",
       "    }\n",
       "</style>\n",
       "<table border=\"1\" class=\"dataframe\">\n",
       "  <thead>\n",
       "    <tr style=\"text-align: right;\">\n",
       "      <th></th>\n",
       "      <th>MSN</th>\n",
       "      <th>YYYYMM</th>\n",
       "      <th>Value</th>\n",
       "    </tr>\n",
       "  </thead>\n",
       "  <tbody>\n",
       "    <tr>\n",
       "      <th>4181</th>\n",
       "      <td>SOTCBUS</td>\n",
       "      <td>198401</td>\n",
       "      <td>-0.001</td>\n",
       "    </tr>\n",
       "    <tr>\n",
       "      <th>4182</th>\n",
       "      <td>SOTCBUS</td>\n",
       "      <td>198402</td>\n",
       "      <td>0.001</td>\n",
       "    </tr>\n",
       "    <tr>\n",
       "      <th>4183</th>\n",
       "      <td>SOTCBUS</td>\n",
       "      <td>198403</td>\n",
       "      <td>0.002</td>\n",
       "    </tr>\n",
       "    <tr>\n",
       "      <th>4184</th>\n",
       "      <td>SOTCBUS</td>\n",
       "      <td>198404</td>\n",
       "      <td>0.003</td>\n",
       "    </tr>\n",
       "    <tr>\n",
       "      <th>4185</th>\n",
       "      <td>SOTCBUS</td>\n",
       "      <td>198405</td>\n",
       "      <td>0.007</td>\n",
       "    </tr>\n",
       "    <tr>\n",
       "      <th>...</th>\n",
       "      <td>...</td>\n",
       "      <td>...</td>\n",
       "      <td>...</td>\n",
       "    </tr>\n",
       "    <tr>\n",
       "      <th>4678</th>\n",
       "      <td>SOTCBUS</td>\n",
       "      <td>202204</td>\n",
       "      <td>172.819</td>\n",
       "    </tr>\n",
       "    <tr>\n",
       "      <th>4679</th>\n",
       "      <td>SOTCBUS</td>\n",
       "      <td>202205</td>\n",
       "      <td>193.046</td>\n",
       "    </tr>\n",
       "    <tr>\n",
       "      <th>4680</th>\n",
       "      <td>SOTCBUS</td>\n",
       "      <td>202206</td>\n",
       "      <td>199.707</td>\n",
       "    </tr>\n",
       "    <tr>\n",
       "      <th>4681</th>\n",
       "      <td>SOTCBUS</td>\n",
       "      <td>202207</td>\n",
       "      <td>199.439</td>\n",
       "    </tr>\n",
       "    <tr>\n",
       "      <th>4682</th>\n",
       "      <td>SOTCBUS</td>\n",
       "      <td>202208</td>\n",
       "      <td>184.958</td>\n",
       "    </tr>\n",
       "  </tbody>\n",
       "</table>\n",
       "<p>502 rows × 3 columns</p>\n",
       "</div>"
      ],
      "text/plain": [
       "          MSN  YYYYMM    Value\n",
       "4181  SOTCBUS  198401   -0.001\n",
       "4182  SOTCBUS  198402    0.001\n",
       "4183  SOTCBUS  198403    0.002\n",
       "4184  SOTCBUS  198404    0.003\n",
       "4185  SOTCBUS  198405    0.007\n",
       "...       ...     ...      ...\n",
       "4678  SOTCBUS  202204  172.819\n",
       "4679  SOTCBUS  202205  193.046\n",
       "4680  SOTCBUS  202206  199.707\n",
       "4681  SOTCBUS  202207  199.439\n",
       "4682  SOTCBUS  202208  184.958\n",
       "\n",
       "[502 rows x 3 columns]"
      ]
     },
     "execution_count": 182,
     "metadata": {},
     "output_type": "execute_result"
    }
   ],
   "source": [
    "df.head(5000)"
   ]
  },
  {
   "cell_type": "code",
   "execution_count": 200,
   "id": "978ae004-a5b1-43b3-8009-123e733c1ad7",
   "metadata": {},
   "outputs": [
    {
     "data": {
      "text/plain": [
       "(0.0, 30.0)"
      ]
     },
     "execution_count": 200,
     "metadata": {},
     "output_type": "execute_result"
    },
    {
     "data": {
      "image/png": "[encoded data removed]",
      "text/plain": [
       "<Figure size 640x480 with 1 Axes>"
      ]
     },
     "metadata": {},
     "output_type": "display_data"
    }
   ],
   "source": [
    "plt.plot(df.YYYYMM, df.Value)\n",
    "plt.xlim([0,60])\n",
    "plt.ylim([0,30])"
   ]
  },
  {
   "cell_type": "code",
   "execution_count": 184,
   "id": "84033f37-966f-4fa8-9583-53c40af4b9d7",
   "metadata": {},
   "outputs": [
    {
     "data": {
      "text/plain": [
       "MSN       SOTCBUS\n",
       "YYYYMM     202208\n",
       "Value      97.077\n",
       "dtype: object"
      ]
     },
     "execution_count": 184,
     "metadata": {},
     "output_type": "execute_result"
    }
   ],
   "source": [
    "df.max()"
   ]
  },
  {
   "cell_type": "code",
   "execution_count": 185,
   "id": "9c13cea9-84e9-47ba-8e5e-3817d6faa3d5",
   "metadata": {},
   "outputs": [
    {
     "data": {
      "text/plain": [
       "MSN       SOTCBUS\n",
       "YYYYMM     198401\n",
       "Value      -0.001\n",
       "dtype: object"
      ]
     },
     "execution_count": 185,
     "metadata": {},
     "output_type": "execute_result"
    }
   ],
   "source": [
    "df.min()"
   ]
  },
  {
   "cell_type": "code",
   "execution_count": null,
   "id": "2cff94d8-ca70-437a-b087-c10157b4bd83",
   "metadata": {},
   "outputs": [],
   "source": [
    "df.["
   ]
  }
 ],
 "metadata": {
  "kernelspec": {
   "display_name": "Python 3 (ipykernel)",
   "language": "python",
   "name": "python3"
  },
  "language_info": {
   "codemirror_mode": {
    "name": "ipython",
    "version": 3
   },
   "file_extension": ".py",
   "mimetype": "text/x-python",
   "name": "python",
   "nbconvert_exporter": "python",
   "pygments_lexer": "ipython3",
   "version": "3.11.0"
  }
 },
 "nbformat": 4,
 "nbformat_minor": 5
}
